{
 "cells": [
  {
   "cell_type": "markdown",
   "metadata": {},
   "source": [
    "# 对象和类\n",
    "- 一个学生，一张桌子，一个圆都是对象\n",
    "- 对象是类的一个实例，你可以创建多个对象，创建类的一个实例过程被称为实例化，\n",
    "- 在Python中对象就是实例，而实例就是对象"
   ]
  },
  {
   "cell_type": "markdown",
   "metadata": {},
   "source": [
    "## 定义类\n",
    "class ClassName:\n",
    "\n",
    "    do something\n",
    "    \n",
    "- class 类的表示与def 一样\n",
    "- 类名最好使用驼峰式\n",
    "- 在Python2中类是需要继承基类object的，在Python中默认继承，可写可不写\n",
    "- 可以将普通代码理解为皮肤，而函数可以理解为内衣，那么类可以理解为外套"
   ]
  },
  {
   "cell_type": "code",
   "execution_count": 34,
   "metadata": {},
   "outputs": [],
   "source": [
    "# 类必须初始化,是用self,初始化自身.\n",
    "# 类里面所有的函数中的第一个变量不再是参数,而是一个印记.\n",
    "# 在类中,如果有参数需要多次使用,那么就可以将其设置为共享参数\n",
    "class Joker:\n",
    "    def __init__(self,num1,num2):\n",
    "        print('我初始化了')\n",
    "        # 参数共享\n",
    "        self.num1 = num1\n",
    "        self.num2 = num2\n",
    "        print(self.num1,self.num2)\n",
    "    def SUM(self,name):\n",
    "        print(name)\n",
    "        return self.num1 + self.num2\n",
    "    def cheng(self):\n",
    "        return self.num1 * self.num2"
   ]
  },
  {
   "cell_type": "code",
   "execution_count": 35,
   "metadata": {},
   "outputs": [
    {
     "name": "stdout",
     "output_type": "stream",
     "text": [
      "我初始化了\n",
      "1 2\n"
     ]
    }
   ],
   "source": [
    "huwang = Joker(num1=1,num2=2) # () 代表直接走初始化函数"
   ]
  },
  {
   "cell_type": "code",
   "execution_count": 36,
   "metadata": {},
   "outputs": [
    {
     "name": "stdout",
     "output_type": "stream",
     "text": [
      "JJJ\n"
     ]
    },
    {
     "data": {
      "text/plain": [
       "3"
      ]
     },
     "execution_count": 36,
     "metadata": {},
     "output_type": "execute_result"
    }
   ],
   "source": [
    "huwang.SUM(name='JJJ')"
   ]
  },
  {
   "cell_type": "code",
   "execution_count": 33,
   "metadata": {},
   "outputs": [
    {
     "data": {
      "text/plain": [
       "2"
      ]
     },
     "execution_count": 33,
     "metadata": {},
     "output_type": "execute_result"
    }
   ],
   "source": [
    "huwang.cheng()"
   ]
  },
  {
   "cell_type": "markdown",
   "metadata": {},
   "source": [
    "## 定义一个不含初始化__init__的简单类\n",
    "class ClassName:\n",
    "\n",
    "    joker = “Home”\n",
    "    \n",
    "    def func():\n",
    "        print('Worker')\n",
    "    \n",
    "- 尽量少使用"
   ]
  },
  {
   "cell_type": "markdown",
   "metadata": {},
   "source": [
    "\n",
    "\n",
    "## 定义一个标准类\n",
    "- __init__ 代表初始化，可以初始化任何动作\n",
    "- 此时类调用要使用()，其中（）可以理解为开始初始化\n",
    "- 初始化内的元素，类中其他的函数可以共享\n",
    "![](../Photo/85.png)"
   ]
  },
  {
   "cell_type": "markdown",
   "metadata": {},
   "source": [
    "- Circle 和 className_ 的第一个区别有 __init__ 这个函数\n",
    "- 。。。。   第二个区别，类中的每一个函数都有self的这个“参数”"
   ]
  },
  {
   "cell_type": "markdown",
   "metadata": {},
   "source": [
    "## 何为self？\n",
    "- self 是指向对象本身的参数\n",
    "- self 只是一个命名规则，其实可以改变的，但是我们约定俗成的是self，也便于理解\n",
    "- 使用了self就可以访问类中定义的成员\n",
    "<img src=\"../Photo/86.png\"></img>"
   ]
  },
  {
   "cell_type": "markdown",
   "metadata": {},
   "source": [
    "## 使用类 Cirlcle"
   ]
  },
  {
   "cell_type": "markdown",
   "metadata": {},
   "source": [
    "## 类的传参\n",
    "- class ClassName:\n",
    "    \n",
    "        def __init__(self, para1,para2...)：\n",
    "            \n",
    "            self.para1 = para1\n",
    "            \n",
    "            self.para2 = para2"
   ]
  },
  {
   "cell_type": "markdown",
   "metadata": {},
   "source": [
    "## EP:\n",
    "- A：定义一个类，类中含有两个功能：\n",
    "    - 1、产生3个随机数，获取最大值\n",
    "    - 2、产生3个随机数，获取最小值\n",
    "- B：定义一个类，（类中函数的嵌套使用）\n",
    "    - 1、第一个函数的功能为：输入一个数字\n",
    "    - 2、第二个函数的功能为：使用第一个函数中得到的数字进行平方处理\n",
    "    - 3、第三个函数的功能为：得到平方处理后的数字 - 原来输入的数字，并打印结果"
   ]
  },
  {
   "cell_type": "code",
   "execution_count": 83,
   "metadata": {},
   "outputs": [],
   "source": [
    "class Joker2:\n",
    "    \"\"\"\n",
    "    Implement Login Class.\n",
    "    \"\"\"\n",
    "    def __init__(self):\n",
    "        \"\"\"\n",
    "        Initialization class\n",
    "        Arguments:\n",
    "        ---------\n",
    "            name: xxx\n",
    "            None.\n",
    "        Returns:\n",
    "        --------\n",
    "            None.\n",
    "        \"\"\"\n",
    "        self.account = '123'\n",
    "        self.password = '123'\n",
    "    def Account(self):\n",
    "        \"\"\"\n",
    "        Input Account value\n",
    "        Arguments:\n",
    "        ---------\n",
    "            None.\n",
    "        Returns:\n",
    "        --------\n",
    "            None.\n",
    "        \"\"\"\n",
    "        self.acc = input('请输入账号:>>')\n",
    "    def Password(self):\n",
    "        \"\"\"\n",
    "        Input Password value\n",
    "        Arguments:\n",
    "        ---------\n",
    "            None.\n",
    "        Returns:\n",
    "        --------\n",
    "            None.\n",
    "        \"\"\"\n",
    "        self.passwor = input('请输入密码:>>')\n",
    "    def Check(self):\n",
    "        \"\"\"\n",
    "        Check account and password\n",
    "        Note:\n",
    "        ----\n",
    "            we need \"and\" connect.\n",
    "            if account and password is right, then login OK.\n",
    "            else: running Veriy func.\n",
    "        \"\"\"\n",
    "        if self.acc == self.account and self.passwor == self.password:\n",
    "            print('Success')\n",
    "        else:\n",
    "            # running Verify !\n",
    "            self.Verify()\n",
    "    def Verify(self):\n",
    "        \"\"\"\n",
    "        Verify ....\n",
    "        \"\"\"\n",
    "        Verify_Var = 123\n",
    "        print('验证码是:',Verify_Var)\n",
    "        while 1:\n",
    "            User_Verify = eval(input('请输入验证码:>>'))\n",
    "            if User_Verify == Verify_Var:\n",
    "                print('Failed')\n",
    "                break\n",
    "    def Start(self):\n",
    "        \"\"\"\n",
    "        Start definelogistics.\n",
    "        \"\"\"\n",
    "        self.Account()\n",
    "        self.Password()\n",
    "        self.Check()"
   ]
  },
  {
   "cell_type": "code",
   "execution_count": 84,
   "metadata": {},
   "outputs": [],
   "source": [
    "# 创建类的一个实例\n",
    "a = Joker2()"
   ]
  },
  {
   "cell_type": "code",
   "execution_count": 82,
   "metadata": {},
   "outputs": [
    {
     "name": "stdout",
     "output_type": "stream",
     "text": [
      "请输入账号:>>123\n",
      "请输入密码:>>1\n",
      "验证码是: 123\n",
      "请输入验证码:>>1\n",
      "请输入验证码:>>1\n",
      "请输入验证码:>>123\n",
      "Failed\n"
     ]
    }
   ],
   "source": [
    "a.Start()"
   ]
  },
  {
   "cell_type": "markdown",
   "metadata": {},
   "source": [
    "## 类的继承\n",
    "- 类的单继承\n",
    "- 类的多继承\n",
    "- 继承标识\n",
    ">  class SonClass(FatherClass):\n",
    "            \n",
    "            def __init__(self):\n",
    "            \n",
    "                FatherClass.__init__(self)"
   ]
  },
  {
   "cell_type": "code",
   "execution_count": 110,
   "metadata": {
    "scrolled": true
   },
   "outputs": [
    {
     "data": {
      "text/plain": [
       "1000"
      ]
     },
     "execution_count": 110,
     "metadata": {},
     "output_type": "execute_result"
    }
   ],
   "source": [
    "a = 100\n",
    "a = 1000\n",
    "a"
   ]
  },
  {
   "cell_type": "markdown",
   "metadata": {},
   "source": [
    "私有变量,不可继承,不可在外部调用,但是可以在内部使用."
   ]
  },
  {
   "cell_type": "code",
   "execution_count": 32,
   "metadata": {},
   "outputs": [],
   "source": [
    "class A:\n",
    "    def __init__(self):\n",
    "        self.__a = 'a'\n",
    "    def a_(self):\n",
    "        print('aa')\n",
    "        print(self.__a)"
   ]
  },
  {
   "cell_type": "code",
   "execution_count": 35,
   "metadata": {},
   "outputs": [
    {
     "name": "stdout",
     "output_type": "stream",
     "text": [
      "hahah\n"
     ]
    }
   ],
   "source": [
    "def b():\n",
    "    a()\n",
    "    \n",
    "def a():\n",
    "    print('hahah')\n",
    "b()"
   ]
  },
  {
   "cell_type": "markdown",
   "metadata": {},
   "source": [
    "# _ _ -- + = / \\ { } [] ! ~ !@ # $ % ^ & * ( ) < > ……"
   ]
  },
  {
   "cell_type": "markdown",
   "metadata": {},
   "source": [
    "## 私有数据域(私有变量，或者私有函数)\n",
    "- 在Python中 变量名或者函数名使用双下划线代表私有  \\__Joker,   def \\__Joker():\n",
    "- 私有数据域不可继承\n",
    "- 私有数据域强制继承   \\__dir__()"
   ]
  },
  {
   "cell_type": "markdown",
   "metadata": {},
   "source": [
    "![](../Photo/87.png)"
   ]
  },
  {
   "cell_type": "markdown",
   "metadata": {},
   "source": [
    "## EP:\n",
    "![](../Photo/88.png)\n",
    "![](../Photo/89.png)\n",
    "![](../Photo/90.png)\n"
   ]
  },
  {
   "cell_type": "markdown",
   "metadata": {},
   "source": [
    "## 类的其他\n",
    "- 类的封装\n",
    "    - 实际上就是将一类功能放在一起，方便未来进行管理\n",
    "- 类的继承（上面已经讲过）\n",
    "- 类的多态\n",
    "    - 包括装饰器：将放在以后处理高级类中教\n",
    "    - 装饰器的好处：当许多类中的函数需要使用同一个功能的时候，那么使用装饰器就会方便许多\n",
    "    - 装饰器是有固定的写法\n",
    "        - 其包括普通装饰器与带参装饰器"
   ]
  },
  {
   "cell_type": "markdown",
   "metadata": {},
   "source": [
    "# Homewor\n",
    "## UML类图可以不用画\n",
    "## UML 实际上就是一个思维图\n",
    "- 1\n",
    "![](../Photo/91.png)"
   ]
  },
  {
   "cell_type": "code",
   "execution_count": 8,
   "metadata": {},
   "outputs": [
    {
     "name": "stdout",
     "output_type": "stream",
     "text": [
      "请输入宽：4\n",
      "请输入高：40\n",
      "宽是：4.00,高是：40.00\n",
      "面积是：160.0000\n",
      "周长是：88.0000\n"
     ]
    }
   ],
   "source": [
    "import math\n",
    "class Rectangle(object):\n",
    "    def __init__(self,width,height):\n",
    "        self.width=width\n",
    "        self.height=height\n",
    "        print('宽是：%.2f,高是：%.2f'% (width,height))\n",
    "    def getArea(self):\n",
    "        return self.width*self.height\n",
    "    def getPerimeter(self):\n",
    "        \n",
    "        return 2*(self.width+self.height)\n",
    "if __name__ == \"__main__\":\n",
    "    width=float(input('请输入宽：'))\n",
    "    height=float(input('请输入高：'))\n",
    "    r=Rectangle(width,height)\n",
    "    print('面积是：%.4f'% r.getArea())\n",
    "    print('周长是：%.4f'% r.getPerimeter()) \n",
    "    "
   ]
  },
  {
   "cell_type": "markdown",
   "metadata": {},
   "source": [
    "- 2\n",
    "![](../Photo/92.png)"
   ]
  },
  {
   "cell_type": "code",
   "execution_count": 23,
   "metadata": {},
   "outputs": [
    {
     "name": "stdout",
     "output_type": "stream",
     "text": [
      "请输入您的id：1122\n",
      "请输入本金：10000\n",
      "请输入年利率：4.5\n",
      "id是1122：\n",
      "金额是10000\n",
      "月利率是0.0037：\n",
      "月利息是37.5000：\n"
     ]
    }
   ],
   "source": [
    "class Account(object):\n",
    "    def __init__(self,id,bala,ann):\n",
    "        self.__id=id\n",
    "        self.__bala=float(bala)\n",
    "        self.__ann=float(ann)\n",
    "    def getMonthlyInterestRate(self):\n",
    "        self.f=float(self.__ann/1200)\n",
    "        print('月利率是%.4f：'% self.f)\n",
    "    def getMonthlyInterest(self):\n",
    "        s=float(self.f*self.__bala)\n",
    "        print('月利息是%.4f：'% s)      \n",
    "    def withdraw(self,quzou):\n",
    "        self.quzou=quzou\n",
    "        a=float(self.__bala*self.__ann/1200)-quzou\n",
    "        print(a)\n",
    "    def deposit(self,cunqian):\n",
    "        self.cunqian=cunqian\n",
    "        b=float(elf.__bala*self.__ann/1200)-cunqian\n",
    "        print(b)        \n",
    "if __name__ == \"__main__\":\n",
    "    id=int(input('请输入您的id：'))\n",
    "    bala=float(input('请输入本金：'))\n",
    "    ann=float(input('请输入年利率：'))\n",
    "    a=Account(id,bala,ann)\n",
    "    print('id是%d：'% a._Account__id)\n",
    "    print('金额是%d'% a._Account__bala)\n",
    "    a.getMonthlyInterestRate()\n",
    "    a.getMonthlyInterest()\n",
    "    "
   ]
  },
  {
   "cell_type": "markdown",
   "metadata": {},
   "source": [
    "- 3\n",
    "![](../Photo/93.png)"
   ]
  },
  {
   "cell_type": "code",
   "execution_count": 36,
   "metadata": {},
   "outputs": [
    {
     "name": "stdout",
     "output_type": "stream",
     "text": [
      "选择速度：1\n",
      "on\n",
      "半径是：5\n",
      "颜色是：blue\n",
      "SLOW\n",
      "关闭\n",
      "5.0\n",
      "blue\n"
     ]
    }
   ],
   "source": [
    "class Fan(object):\n",
    "    def __init__(self,speed=1,on=False,r=5,color='blue'):\n",
    "        self.SLOW=1\n",
    "        self.MEDIUM=2\n",
    "        self.FAST=3\n",
    "        self.__speed=int(speed)\n",
    "        self.__on=bool(on)\n",
    "        self.__r=float(r)\n",
    "        self.__color=str(color)       \n",
    "    def prints(self):\n",
    "        if self.__speed==1:\n",
    "            print('SLOW')\n",
    "        elif self.__speed==2:\n",
    "            print('MEDIUM')\n",
    "        elif self.__speed==3:\n",
    "            print('FAST')\n",
    "        if self.__on=='on':\n",
    "            print('打开')\n",
    "        else:\n",
    "            print('关闭')       \n",
    "        print(self.__r)\n",
    "        print(self.__color)\n",
    "if __name__ == \"__main__\":\n",
    "    speed=int(input('选择速度：'))\n",
    "    on=bool(input('on or off'))\n",
    "    r=float(input('半径是：'))\n",
    "    color=str(input('颜色是：'))\n",
    "    fan=Fan(speed,on,r,color)\n",
    "    fan.prints()\n",
    "    "
   ]
  },
  {
   "cell_type": "markdown",
   "metadata": {},
   "source": [
    "- 4\n",
    "![](../Photo/94.png)\n",
    "![](../Photo/95.png)"
   ]
  },
  {
   "cell_type": "code",
   "execution_count": 50,
   "metadata": {},
   "outputs": [
    {
     "name": "stdout",
     "output_type": "stream",
     "text": [
      "请输入边数：10\n",
      "请输入边长：4\n",
      "请输入x轴坐标：5\n",
      "请输入y轴坐标：6\n",
      "周长是:40.0000\n",
      "面积12.9968\n"
     ]
    }
   ],
   "source": [
    "import math\n",
    "\n",
    "class RegularPolygon(object):\n",
    "    def __init__(self,n=3,side=1,x=0,y=0):\n",
    "        self.__n=int(n)\n",
    "        self.__side=float(side)\n",
    "        self.__x=float(x)\n",
    "        self.__y=float(y)\n",
    "    def getPerimetetr(self):\n",
    "        print('周长是:%.4f'% (self.__n*self.__side )) \n",
    "    def getArea(self):\n",
    "        self.s=self.__n*(self.__side**2)/4*math.tan(math.pi/self.__n)\n",
    "        print('面积%.4f'% self.s)\n",
    "if __name__ == \"__main__\":\n",
    "    n=int(input('请输入边数：'))\n",
    "    side=float(input('请输入边长：'))\n",
    "    x=float(input('请输入x轴坐标：'))\n",
    "    y=float(input('请输入y轴坐标：'))\n",
    "    r=RegularPolygon(n,side,x,y)\n",
    "    r.getPerimetetr()\n",
    "    r.getArea()"
   ]
  },
  {
   "cell_type": "markdown",
   "metadata": {},
   "source": [
    "- 5\n",
    "![](../Photo/96.png)"
   ]
  },
  {
   "cell_type": "code",
   "execution_count": 64,
   "metadata": {},
   "outputs": [
    {
     "name": "stdout",
     "output_type": "stream",
     "text": [
      "a的值是：6\n",
      "b的值是：5\n",
      "c的值是：4\n",
      "d的值是：3\n",
      "e的值是：2\n",
      "f的值是：1\n",
      "X的值为：8.50\n",
      "Y的值为：10.00\n"
     ]
    }
   ],
   "source": [
    "class LinearEquation(object):   \n",
    "    def __init__(self,a,b,c,d,e,f):\n",
    "        self.__a=a\n",
    "        self.__b=b\n",
    "        self.__c=c\n",
    "        self.__d=d\n",
    "        self.__e=e\n",
    "        self.__f=f           \n",
    "    def set_a(self,a):\n",
    "        self.__a=a\n",
    "    def get_a(self):\n",
    "        return self.__a\n",
    "    def set_b(self,b):\n",
    "        self.__b=b\n",
    "    def get_b(self):\n",
    "        return self.___b\n",
    "    def set_c(self,c):\n",
    "        self.__c=c\n",
    "    def get_c(self):\n",
    "        return self.__c\n",
    "    def set_d(self,d):\n",
    "        self.__d=d\n",
    "    def get_d(self):\n",
    "        return self.__d\n",
    "    def set_e(self,e):\n",
    "        self.__e=e\n",
    "    def get_e(self):\n",
    "        return self.__e\n",
    "    def set_f(self,f):\n",
    "        self.__f=f\n",
    "    def get_f(self):\n",
    "        return self.__f\n",
    "    def isSolvable(self):\n",
    "        if (self.__a*self.__d)-(self.__c*self.__b)!=0:\n",
    "            return True\n",
    "        else:\n",
    "            return print('此方程无解')\n",
    "    def getX(self):\n",
    "        s=(self.__a*self.__d)-(self.__b*self.__c)\n",
    "        x=(self.__e*self.__d)-(self.__b*self.__f)/s\n",
    "        print('X的值为：%.2f'% x)\n",
    "    def getY(self):\n",
    "        s=(self.__a*self.__d)-(self.__b*self.__c)\n",
    "        y=(self.__a*self.__f)-(self.__e*self.__c)/s\n",
    "        print('Y的值为：%.2f'% y)\n",
    "if __name__==\"__main__\":\n",
    "    a=int(input('a的值是：'))\n",
    "    b=int(input('b的值是：'))\n",
    "    c=int(input('c的值是：'))\n",
    "    d=int(input('d的值是：'))\n",
    "    e=int(input('e的值是：'))\n",
    "    f=int(input('f的值是：'))\n",
    "    l=LinearEquation(a,b,c,d,e,f)\n",
    "    l.isSolvable()\n",
    "    l.getX()\n",
    "    l.getY()\n",
    "\n",
    "\n",
    "\n",
    "    "
   ]
  },
  {
   "cell_type": "markdown",
   "metadata": {},
   "source": [
    "- 6\n",
    "![](../Photo/97.png)"
   ]
  },
  {
   "cell_type": "code",
   "execution_count": 81,
   "metadata": {},
   "outputs": [
    {
     "name": "stdout",
     "output_type": "stream",
     "text": [
      "2.0 2.0 0 0 \n",
      "0 2.0 2.0 0\n",
      "1.0 1.0\n"
     ]
    }
   ],
   "source": [
    "class zuobao:\n",
    "    def shur(self):\n",
    "        import math      \n",
    "        x1,y1,x2,y2=map(float,input().split())\n",
    "        x3,y3,x4,y4=map(float,input().split())\n",
    "        u1=(x4-x3)*(y1-y3)-(x1-x3)*(y4-y3)\n",
    "        v1=(x4-x3)*(y2-y3)-(x2-x3)*(y4-y3)\n",
    "        u=math.fabs(u1)\n",
    "        v=math.fabs(v1)\n",
    "\n",
    "        x5=(x1*v+x2*u)/(u+v)\n",
    "        y5=(y1*v+y2*u)/(u+v)\n",
    "        print(x5,y5) \n",
    "re=zuobao()\n",
    "re.shur()"
   ]
  },
  {
   "cell_type": "markdown",
   "metadata": {},
   "source": [
    "- 7\n",
    "![](../Photo/98.png)"
   ]
  },
  {
   "cell_type": "code",
   "execution_count": 74,
   "metadata": {},
   "outputs": [
    {
     "name": "stdout",
     "output_type": "stream",
     "text": [
      "a的值是：9\n",
      "b的值是：8\n",
      "c的值是：7\n",
      "d的值是：6\n",
      "e的值是：5\n",
      "f的值是：4\n",
      "X的值为：46.00\n",
      "Y的值为：53.50\n"
     ]
    }
   ],
   "source": [
    "class LinearEquation(object):   \n",
    "    def __init__(self,a,b,c,d,e,f):\n",
    "        self.__a=a\n",
    "        self.__b=b\n",
    "        self.__c=c\n",
    "        self.__d=d\n",
    "        self.__e=e\n",
    "        self.__f=f           \n",
    "    def set_a(self,a):\n",
    "        self.__a=a\n",
    "    def get_a(self):\n",
    "        return self.__a\n",
    "    def set_b(self,b):\n",
    "        self.__b=b\n",
    "    def get_b(self):\n",
    "        return self.___b\n",
    "    def set_c(self,c):\n",
    "        self.__c=c\n",
    "    def get_c(self):\n",
    "        return self.__c\n",
    "    def set_d(self,d):\n",
    "        self.__d=d\n",
    "    def get_d(self):\n",
    "        return self.__d\n",
    "    def set_e(self,e):\n",
    "        self.__e=e\n",
    "    def get_e(self):\n",
    "        return self.__e\n",
    "    def set_f(self,f):\n",
    "        self.__f=f\n",
    "    def get_f(self):\n",
    "        return self.__f\n",
    "    def isSolvable(self):\n",
    "        if (self.__a*self.__d)-(self.__c*self.__b)!=0:\n",
    "            return True\n",
    "        else:\n",
    "            return print('此方程无解')\n",
    "    def getX(self):\n",
    "        s=(self.__a*self.__d)-(self.__b*self.__c)\n",
    "        x=(self.__e*self.__d)-(self.__b*self.__f)/s\n",
    "        print('X的值为：%.2f'% x)\n",
    "    def getY(self):\n",
    "        s=(self.__a*self.__d)-(self.__b*self.__c)\n",
    "        y=(self.__a*self.__f)-(self.__e*self.__c)/s\n",
    "        print('Y的值为：%.2f'% y)\n",
    "if __name__==\"__main__\":\n",
    "    a=int(input('a的值是：'))\n",
    "    b=int(input('b的值是：'))\n",
    "    c=int(input('c的值是：'))\n",
    "    d=int(input('d的值是：'))\n",
    "    e=int(input('e的值是：'))\n",
    "    f=int(input('f的值是：'))\n",
    "    l=LinearEquation(a,b,c,d,e,f)\n",
    "    l.isSolvable()\n",
    "    l.getX()\n",
    "    l.getY()\n",
    "\n",
    "\n",
    "\n",
    "    "
   ]
  },
  {
   "cell_type": "code",
   "execution_count": null,
   "metadata": {},
   "outputs": [],
   "source": []
  }
 ],
 "metadata": {
  "kernelspec": {
   "display_name": "Python 3",
   "language": "python",
   "name": "python3"
  },
  "language_info": {
   "codemirror_mode": {
    "name": "ipython",
    "version": 3
   },
   "file_extension": ".py",
   "mimetype": "text/x-python",
   "name": "python",
   "nbconvert_exporter": "python",
   "pygments_lexer": "ipython3",
   "version": "3.7.3"
  }
 },
 "nbformat": 4,
 "nbformat_minor": 2
}
